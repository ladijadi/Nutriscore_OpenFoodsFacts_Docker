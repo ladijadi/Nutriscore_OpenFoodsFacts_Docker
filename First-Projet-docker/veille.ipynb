{
 "cells": [
  {
   "cell_type": "markdown",
   "metadata": {},
   "source": [
    "Document de veille : Résumé des notions clés de Docker"
   ]
  },
  {
   "cell_type": "markdown",
   "metadata": {},
   "source": [
    "1. Qu'est-ce qu'une machine virtuelle ?\n",
    "\n",
    "Une machine virtuelle (VM) est une émulation d'un ordinateur complet qui fonctionne comme une machine physique, mais qui est exécutée sur un autre système informatique. \n",
    "Elle contient son propre système d'exploitation, ses applications et ses ressources dédiées, comme la mémoire, le processeur et le stockage, indépendamment du système hôte.\n",
    "\n",
    "2. Quelle est la différence entre une machine virtuelle et un conteneur ?\n",
    "\n",
    "Machine virtuelle : Fournit une isolation complète en exécutant un système d'exploitation entier dans une machine virtuelle, y compris les processus, la gestion de la mémoire, et les périphériques. \n",
    "Les machines virtuelles nécessitent plus de ressources système car elles intègrent une copie complète du système d'exploitation.\n",
    "\n",
    "Conteneur : Exécute une application dans un environnement isolé, mais il partage le noyau du système d'exploitation hôte. \n",
    "Les conteneurs sont plus légers car ils n'incluent pas de système d'exploitation complet et partagent certaines ressources avec l'hôte, ce qui les rend plus rapides et plus efficaces en termes de consommation de ressources.\n",
    "\n",
    "3. Qu'est-ce que Docker ? Qu'est-ce que la conteneurisation ?\n",
    "\n",
    "Docker : Docker est une plateforme open-source qui permet de créer, déployer et exécuter des applications dans des conteneurs. \n",
    "Ces conteneurs encapsulent toutes les dépendances nécessaires pour exécuter une application de manière cohérente, quel que soit l'environnement.\n",
    "\n",
    "Conteneurisation : La conteneurisation est une technologie qui permet de regrouper une application et toutes ses dépendances (bibliothèques, fichiers de configuration, etc.) dans un conteneur. \n",
    "Cela garantit que l'application fonctionne de manière uniforme, indépendamment de l'environnement d'exécution (développement, test, production).\n",
    "\n",
    "4. Quels sont les avantages de la conteneurisation ?\n",
    "\n",
    "Portabilité : Les conteneurs peuvent être exécutés de manière identique sur différentes machines et systèmes d'exploitation, car ils contiennent tout ce dont l'application a besoin pour fonctionner.\n",
    "\n",
    "Légèreté : Les conteneurs sont plus légers que les machines virtuelles car ils partagent le noyau du système d'exploitation hôte.\n",
    "\n",
    "Scalabilité : Docker permet de facilement déployer et gérer des applications dans des environnements distribués ou en microservices.\n",
    "\n",
    "Isolation : Les conteneurs offrent un niveau d'isolation pour chaque application, ce qui permet de prévenir les conflits entre les dépendances et les configurations.\n",
    "\n",
    "5. Qu'est-ce qu'une image Docker, quelles différences avec un conteneur ?\n",
    "\n",
    "Image Docker : Une image Docker est un modèle en lecture seule qui contient tout le nécessaire pour exécuter une application, y compris les fichiers d'application, les bibliothèques et les dépendances. \n",
    "C'est une sorte de \"snapshot\" de l'application prête à être exécutée.\n",
    "\n",
    "Conteneur : Un conteneur est une instance en cours d'exécution d'une image Docker. Contrairement à l'image, le conteneur est modifiable pendant son exécution, ce qui permet d'interagir avec l'application en temps réel.\n",
    "\n",
    "6. Qu'est-ce qu'un Dockerfile ?\n",
    "\n",
    "Un Dockerfile est un fichier texte contenant une série d'instructions permettant de construire une image Docker. \n",
    "Il définit l'environnement de l'application, les dépendances nécessaires, ainsi que les étapes pour configurer et démarrer l'application dans un conteneur. \n",
    "Par exemple, il peut inclure des instructions pour installer des packages, copier des fichiers dans le conteneur, ou exposer des ports."
   ]
  },
  {
   "cell_type": "markdown",
   "metadata": {},
   "source": [
    "7. Commandes de base Docker\n",
    "\n",
    "docker run : Crée et exécute un conteneur à partir d'une image.\n",
    "\n",
    "docker build : Construit une image à partir d'un Dockerfile.\n",
    "\n",
    "docker ps : Liste les conteneurs en cours d'exécution.\n",
    "\n",
    "docker exec : Exécute une commande dans un conteneur en cours d'exécution.\n",
    "\n",
    "docker logs : Affiche les journaux d'un conteneur."
   ]
  }
 ],
 "metadata": {
  "language_info": {
   "name": "python"
  }
 },
 "nbformat": 4,
 "nbformat_minor": 2
}
